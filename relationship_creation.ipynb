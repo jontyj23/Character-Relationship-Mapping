{
 "cells": [
  {
   "cell_type": "code",
   "execution_count": 1,
   "metadata": {},
   "outputs": [],
   "source": [
    "import pandas as pd\n",
    "import numpy as np\n",
    "import spacy\n",
    "from spacy import displacy\n",
    "import matplotlib.pyplot as plt\n",
    "import networkx as nx"
   ]
  },
  {
   "cell_type": "code",
   "execution_count": 2,
   "metadata": {},
   "outputs": [],
   "source": [
    "nlp = spacy.load(\"en_core_web_sm\")"
   ]
  },
  {
   "cell_type": "markdown",
   "metadata": {},
   "source": [
    "## Load the books and read into nlp"
   ]
  },
  {
   "cell_type": "code",
   "execution_count": 3,
   "metadata": {},
   "outputs": [],
   "source": [
    "import os\n",
    "\n",
    "# Scan directory and load books\n",
    "books_load = [book for book in os.scandir(\"data\") if \".txt\" in book.name]"
   ]
  },
  {
   "cell_type": "code",
   "execution_count": 4,
   "metadata": {},
   "outputs": [
    {
     "data": {
      "text/plain": [
       "[<DirEntry 'II - Times of Contempt.txt'>,\n",
       " <DirEntry 'III - Baptism of Fire.txt'>,\n",
       " <DirEntry 'V - The Lady of the Lake.txt'>,\n",
       " <DirEntry 'C - The Last Wish.txt'>,\n",
       " <DirEntry 'IV - The Tower of the Swallow.txt'>,\n",
       " <DirEntry 'I - Blood of Elves.txt'>,\n",
       " <DirEntry 'E - something ends something begins.txt'>,\n",
       " <DirEntry 'B - The Sword of Destiny.txt'>]"
      ]
     },
     "execution_count": 4,
     "metadata": {},
     "output_type": "execute_result"
    }
   ],
   "source": [
    "# Confirm that the books are loaded correctly\n",
    "books_load"
   ]
  },
  {
   "cell_type": "code",
   "execution_count": 8,
   "metadata": {},
   "outputs": [],
   "source": [
    "# Read the books and load into nlp\n",
    "book = books_load[1]\n",
    "text = open(book).read()\n",
    "doc = nlp(text)"
   ]
  },
  {
   "cell_type": "code",
   "execution_count": null,
   "metadata": {},
   "outputs": [],
   "source": [
    "# Visualize the named entities\n",
    "displacy.render(doc[0:2000], style=\"ent\", jupyter=True)"
   ]
  },
  {
   "cell_type": "markdown",
   "metadata": {},
   "source": [
    "# Load character names"
   ]
  },
  {
   "cell_type": "code",
   "execution_count": null,
   "metadata": {},
   "outputs": [],
   "source": [
    "df_characters = pd.read_csv(\"characters.csv\")"
   ]
  }
 ],
 "metadata": {
  "kernelspec": {
   "display_name": "witcher",
   "language": "python",
   "name": "python3"
  },
  "language_info": {
   "codemirror_mode": {
    "name": "ipython",
    "version": 3
   },
   "file_extension": ".py",
   "mimetype": "text/x-python",
   "name": "python",
   "nbconvert_exporter": "python",
   "pygments_lexer": "ipython3",
   "version": "3.11.5"
  }
 },
 "nbformat": 4,
 "nbformat_minor": 2
}
