{
 "cells": [
  {
   "cell_type": "code",
   "execution_count": 1,
   "metadata": {},
   "outputs": [],
   "source": [
    "import pandas as pd\n",
    "import numpy as np\n",
    "import spacy\n",
    "from spacy import displacy\n",
    "import matplotlib.pyplot as plt\n",
    "import networkx as nx"
   ]
  },
  {
   "cell_type": "code",
   "execution_count": 2,
   "metadata": {},
   "outputs": [],
   "source": [
    "nlp = spacy.load(\"en_core_web_sm\")"
   ]
  },
  {
   "cell_type": "markdown",
   "metadata": {},
   "source": [
    "## Load the books and read into nlp"
   ]
  },
  {
   "cell_type": "code",
   "execution_count": 3,
   "metadata": {},
   "outputs": [],
   "source": [
    "import os\n",
    "\n",
    "# Scan directory and load books\n",
    "books_load = [book for book in os.scandir(\"data\") if \".txt\" in book.name]"
   ]
  },
  {
   "cell_type": "code",
   "execution_count": 4,
   "metadata": {},
   "outputs": [
    {
     "data": {
      "text/plain": [
       "[<DirEntry 'II - Times of Contempt.txt'>,\n",
       " <DirEntry 'III - Baptism of Fire.txt'>,\n",
       " <DirEntry 'V - The Lady of the Lake.txt'>,\n",
       " <DirEntry 'C - The Last Wish.txt'>,\n",
       " <DirEntry 'IV - The Tower of the Swallow.txt'>,\n",
       " <DirEntry 'I - Blood of Elves.txt'>,\n",
       " <DirEntry 'E - something ends something begins.txt'>,\n",
       " <DirEntry 'B - The Sword of Destiny.txt'>]"
      ]
     },
     "execution_count": 4,
     "metadata": {},
     "output_type": "execute_result"
    }
   ],
   "source": [
    "# Confirm that the books are loaded correctly\n",
    "books_load"
   ]
  },
  {
   "cell_type": "code",
   "execution_count": 8,
   "metadata": {},
   "outputs": [],
   "source": [
    "# Read the books and load into nlp\n",
    "book = books_load[1]\n",
    "text = open(book).read()\n",
    "doc = nlp(text)"
   ]
  },
  {
   "cell_type": "code",
   "execution_count": null,
   "metadata": {},
   "outputs": [],
   "source": [
    "# Visualize the named entities\n",
    "displacy.render(doc[0:2000], style=\"ent\", jupyter=True)"
   ]
  },
  {
   "cell_type": "markdown",
   "metadata": {},
   "source": [
    "# Load character names"
   ]
  },
  {
   "cell_type": "code",
   "execution_count": null,
   "metadata": {},
   "outputs": [],
   "source": [
    "characters_df = pd.read_csv(\"characters.csv\")"
   ]
  },
  {
   "cell_type": "markdown",
   "metadata": {},
   "source": [
    "# Create lists of named entities for each sentence"
   ]
  },
  {
   "cell_type": "code",
   "execution_count": null,
   "metadata": {},
   "outputs": [],
   "source": [
    "sentence_entity_df = []\n",
    "\n",
    "# Loop through sentences to store named entities\n",
    "for sentence in doc.sents:\n",
    "    entity_list = [ent.text for ent in sentence.ents]\n",
    "    sentence_entity_df.append({'sentence': sentence, 'entities': entity_list})\n",
    "\n",
    "# Convert list to dataframe and display\n",
    "sentence_entity_df = pd.DataFrame(sentence_entity_df)"
   ]
  },
  {
   "cell_type": "code",
   "execution_count": null,
   "metadata": {},
   "outputs": [],
   "source": [
    "# Function to filter out the non-character entities from the dataframe\n",
    "def filter_entity(ent_list, characters_df):\n",
    "    return [ent for ent in ent_list\n",
    "            if ent in list(characters_df.character)\n",
    "            or ent in list(characters_df.first_name)]"
   ]
  },
  {
   "cell_type": "code",
   "execution_count": null,
   "metadata": {},
   "outputs": [],
   "source": [
    "# Apply above function to  clean entity dataframe of non-character entities\n",
    "sentence_entity_df['character_entities'] = sentence_entity_df['entities'].apply(lambda x: filter_entity(x, characters_df))\n",
    "\n",
    "# Remove empty entity lists\n",
    "sentence_entity_df = sentence_entity_df[sentence_entity_df['character_entities'].map(len) > 0]"
   ]
  }
 ],
 "metadata": {
  "kernelspec": {
   "display_name": "witcher",
   "language": "python",
   "name": "python3"
  },
  "language_info": {
   "codemirror_mode": {
    "name": "ipython",
    "version": 3
   },
   "file_extension": ".py",
   "mimetype": "text/x-python",
   "name": "python",
   "nbconvert_exporter": "python",
   "pygments_lexer": "ipython3",
   "version": "3.11.5"
  }
 },
 "nbformat": 4,
 "nbformat_minor": 2
}
