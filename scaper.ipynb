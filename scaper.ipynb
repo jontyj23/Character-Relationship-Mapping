{
 "cells": [
  {
   "cell_type": "code",
   "execution_count": 37,
   "id": "a7b28d49-fa45-4752-9ef4-250f5a8f4f99",
   "metadata": {},
   "outputs": [],
   "source": [
    "import pandas as pd\n",
    "import time\n",
    "from selenium import webdriver\n",
    "from selenium.webdriver.firefox.options import Options\n",
    "from webdriver_manager.firefox import GeckoDriverManager\n",
    "import re"
   ]
  },
  {
   "cell_type": "markdown",
   "id": "f673cc9b",
   "metadata": {},
   "source": [
    "#Create Driver"
   ]
  },
  {
   "cell_type": "code",
   "execution_count": 38,
   "id": "da56a0c3-880b-4125-b476-cd270e601b15",
   "metadata": {},
   "outputs": [],
   "source": [
    "firefox_options = Options()\n",
    "firefox_options.add_argument('--headless')\n",
    "firefox_options.add_argument('--no-sandbox')\n",
    "driver = webdriver.Firefox(options = firefox_options, executable_path=GeckoDriverManager().install())\n"
   ]
  },
  {
   "cell_type": "code",
   "execution_count": 39,
   "id": "96767fa5",
   "metadata": {},
   "outputs": [],
   "source": [
    "page_url = 'https://witcher.fandom.com/wiki/Category:Characters_in_the_stories'\n",
    "driver.get(page_url)"
   ]
  },
  {
   "cell_type": "markdown",
   "id": "e1ec59db",
   "metadata": {},
   "source": [
    "#Find Books"
   ]
  },
  {
   "cell_type": "code",
   "execution_count": 40,
   "id": "1e364b6a",
   "metadata": {},
   "outputs": [],
   "source": [
    "# Get all elements with the title attribute\n",
    "books_elements = driver.find_elements_by_class_name('category-page__member-link')"
   ]
  },
  {
   "cell_type": "code",
   "execution_count": 41,
   "id": "2fa388e5",
   "metadata": {},
   "outputs": [],
   "source": [
    "books = []\n",
    "for element in books_elements:\n",
    "    book_url = element.get_attribute('href')\n",
    "    book_name = element.text\n",
    "    books.append({'book': book_name, 'url': book_url})"
   ]
  },
  {
   "cell_type": "code",
   "execution_count": 42,
   "id": "fbda95bf",
   "metadata": {},
   "outputs": [
    {
     "data": {
      "text/plain": [
       "[{'book': 'Category:Baptism of Fire characters',\n",
       "  'url': 'https://witcher.fandom.com/wiki/Category:Baptism_of_Fire_characters'},\n",
       " {'book': 'Category:Blood of Elves characters',\n",
       "  'url': 'https://witcher.fandom.com/wiki/Category:Blood_of_Elves_characters'},\n",
       " {'book': \"Godamba Thaess'en\",\n",
       "  'url': 'https://witcher.fandom.com/wiki/Godamba_Thaess%27en'},\n",
       " {'book': 'Category:Season of Storms characters',\n",
       "  'url': 'https://witcher.fandom.com/wiki/Category:Season_of_Storms_characters'},\n",
       " {'book': 'Category:Something Ends, Something Begins characters',\n",
       "  'url': 'https://witcher.fandom.com/wiki/Category:Something_Ends,_Something_Begins_characters'},\n",
       " {'book': 'Category:Sword of Destiny characters',\n",
       "  'url': 'https://witcher.fandom.com/wiki/Category:Sword_of_Destiny_characters'},\n",
       " {'book': 'Category:Szpony i kły characters',\n",
       "  'url': 'https://witcher.fandom.com/wiki/Category:Szpony_i_k%C5%82y_characters'},\n",
       " {'book': 'Category:Tales from the world of The Witcher characters',\n",
       "  'url': 'https://witcher.fandom.com/wiki/Category:Tales_from_the_world_of_The_Witcher_characters'},\n",
       " {'book': 'Category:The Lady of the Lake characters',\n",
       "  'url': 'https://witcher.fandom.com/wiki/Category:The_Lady_of_the_Lake_characters'},\n",
       " {'book': 'Category:The Last Wish characters',\n",
       "  'url': 'https://witcher.fandom.com/wiki/Category:The_Last_Wish_characters'},\n",
       " {'book': 'Category:The Tower of the Swallow characters',\n",
       "  'url': 'https://witcher.fandom.com/wiki/Category:The_Tower_of_the_Swallow_characters'},\n",
       " {'book': 'Category:Time of Contempt characters',\n",
       "  'url': 'https://witcher.fandom.com/wiki/Category:Time_of_Contempt_characters'}]"
      ]
     },
     "execution_count": 42,
     "metadata": {},
     "output_type": "execute_result"
    }
   ],
   "source": [
    "books"
   ]
  },
  {
   "cell_type": "code",
   "execution_count": 43,
   "id": "034ba2ba",
   "metadata": {},
   "outputs": [],
   "source": [
    "characters = []\n",
    "\n",
    "for book in books:\n",
    "    driver.get(book['url'])\n",
    "    character_elements= driver.find_elements_by_class_name('category-page__member-link')\n",
    "    for element in character_elements:\n",
    "        characters.append({'book': book['book'], 'character': element.text})"
   ]
  }
 ],
 "metadata": {
  "kernelspec": {
   "display_name": "Python 3 (ipykernel)",
   "language": "python",
   "name": "python3"
  },
  "language_info": {
   "codemirror_mode": {
    "name": "ipython",
    "version": 3
   },
   "file_extension": ".py",
   "mimetype": "text/x-python",
   "name": "python",
   "nbconvert_exporter": "python",
   "pygments_lexer": "ipython3",
   "version": "3.11.5"
  }
 },
 "nbformat": 4,
 "nbformat_minor": 5
}
