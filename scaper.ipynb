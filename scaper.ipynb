{
 "cells": [
  {
   "cell_type": "code",
   "execution_count": 1,
   "id": "a7b28d49-fa45-4752-9ef4-250f5a8f4f99",
   "metadata": {},
   "outputs": [],
   "source": [
    "import pandas as pd\n",
    "from selenium import webdriver\n",
    "from selenium.webdriver.firefox.service import Service as FirefoxService\n",
    "from selenium.webdriver.firefox.options import Options\n",
    "from selenium.webdriver.common.by import By\n",
    "from webdriver_manager.firefox import GeckoDriverManager"
   ]
  },
  {
   "cell_type": "markdown",
   "id": "f673cc9b",
   "metadata": {},
   "source": [
    "# Create Driver and launch scraper"
   ]
  },
  {
   "cell_type": "code",
   "execution_count": 2,
   "id": "da56a0c3-880b-4125-b476-cd270e601b15",
   "metadata": {},
   "outputs": [],
   "source": [
    "firefox_options = Options()\n",
    "firefox_options.add_argument('--headless')\n",
    "firefox_options.add_argument('--sandbox')\n",
    "driver = webdriver.Firefox(options=firefox_options, service=FirefoxService(GeckoDriverManager().install()))\n",
    "page_url = \"https://witcher.fandom.com/wiki/Category:Characters_in_the_stories\"\n",
    "driver.get(page_url)"
   ]
  },
  {
   "cell_type": "markdown",
   "id": "e1ec59db",
   "metadata": {},
   "source": [
    "# Build dictionaries for books and character list"
   ]
  },
  {
   "cell_type": "code",
   "execution_count": 3,
   "id": "1e364b6a",
   "metadata": {},
   "outputs": [],
   "source": [
    "# Get all elements with the title attribute\n",
    "books_elements = driver.find_elements(By.CLASS_NAME, \"category-page__member-link\")\n",
    "\n",
    "# Scrape book name and url into list\n",
    "books = []\n",
    "for element in books_elements:\n",
    "    book_url = element.get_attribute(\"href\")\n",
    "    book_name = element.text\n",
    "    books.append({\"book\": book_name, \"url\": book_url})\n",
    "\n",
    "# Enter each book url and scrape the character and book name into character list\n",
    "characters = []\n",
    "for book in books:\n",
    "    driver.get(book[\"url\"])\n",
    "    character_elements= driver.find_elements(By.CLASS_NAME, \"category-page__member-link\")\n",
    "    for element in character_elements:\n",
    "        characters.append({\"book\": book[\"book\"], \"character\": element.text})"
   ]
  },
  {
   "cell_type": "code",
   "execution_count": 4,
   "id": "050434a3",
   "metadata": {},
   "outputs": [
    {
     "data": {
      "text/html": [
       "<div>\n",
       "<style scoped>\n",
       "    .dataframe tbody tr th:only-of-type {\n",
       "        vertical-align: middle;\n",
       "    }\n",
       "\n",
       "    .dataframe tbody tr th {\n",
       "        vertical-align: top;\n",
       "    }\n",
       "\n",
       "    .dataframe thead th {\n",
       "        text-align: right;\n",
       "    }\n",
       "</style>\n",
       "<table border=\"1\" class=\"dataframe\">\n",
       "  <thead>\n",
       "    <tr style=\"text-align: right;\">\n",
       "      <th></th>\n",
       "      <th>book</th>\n",
       "      <th>character</th>\n",
       "    </tr>\n",
       "  </thead>\n",
       "  <tbody>\n",
       "    <tr>\n",
       "      <th>0</th>\n",
       "      <td>Category:Baptism of Fire characters</td>\n",
       "      <td>Adalia</td>\n",
       "    </tr>\n",
       "    <tr>\n",
       "      <th>1</th>\n",
       "      <td>Category:Baptism of Fire characters</td>\n",
       "      <td>Adela</td>\n",
       "    </tr>\n",
       "    <tr>\n",
       "      <th>2</th>\n",
       "      <td>Category:Baptism of Fire characters</td>\n",
       "      <td>Aen Saevherne</td>\n",
       "    </tr>\n",
       "    <tr>\n",
       "      <th>3</th>\n",
       "      <td>Category:Baptism of Fire characters</td>\n",
       "      <td>Aevenien</td>\n",
       "    </tr>\n",
       "    <tr>\n",
       "      <th>4</th>\n",
       "      <td>Category:Baptism of Fire characters</td>\n",
       "      <td>Aglaïs</td>\n",
       "    </tr>\n",
       "    <tr>\n",
       "      <th>...</th>\n",
       "      <td>...</td>\n",
       "      <td>...</td>\n",
       "    </tr>\n",
       "    <tr>\n",
       "      <th>1270</th>\n",
       "      <td>Category:Time of Contempt characters</td>\n",
       "      <td>Yanna of Murivel</td>\n",
       "    </tr>\n",
       "    <tr>\n",
       "      <th>1271</th>\n",
       "      <td>Category:Time of Contempt characters</td>\n",
       "      <td>Yarpen Zigrin</td>\n",
       "    </tr>\n",
       "    <tr>\n",
       "      <th>1272</th>\n",
       "      <td>Category:Time of Contempt characters</td>\n",
       "      <td>Yennefer of Vengerberg</td>\n",
       "    </tr>\n",
       "    <tr>\n",
       "      <th>1273</th>\n",
       "      <td>Category:Time of Contempt characters</td>\n",
       "      <td>Yiolenta Suarez</td>\n",
       "    </tr>\n",
       "    <tr>\n",
       "      <th>1274</th>\n",
       "      <td>Category:Time of Contempt characters</td>\n",
       "      <td>Zyvik</td>\n",
       "    </tr>\n",
       "  </tbody>\n",
       "</table>\n",
       "<p>1275 rows × 2 columns</p>\n",
       "</div>"
      ],
      "text/plain": [
       "                                      book               character\n",
       "0      Category:Baptism of Fire characters                  Adalia\n",
       "1      Category:Baptism of Fire characters                   Adela\n",
       "2      Category:Baptism of Fire characters           Aen Saevherne\n",
       "3      Category:Baptism of Fire characters                Aevenien\n",
       "4      Category:Baptism of Fire characters                  Aglaïs\n",
       "...                                    ...                     ...\n",
       "1270  Category:Time of Contempt characters        Yanna of Murivel\n",
       "1271  Category:Time of Contempt characters           Yarpen Zigrin\n",
       "1272  Category:Time of Contempt characters  Yennefer of Vengerberg\n",
       "1273  Category:Time of Contempt characters         Yiolenta Suarez\n",
       "1274  Category:Time of Contempt characters                   Zyvik\n",
       "\n",
       "[1275 rows x 2 columns]"
      ]
     },
     "execution_count": 4,
     "metadata": {},
     "output_type": "execute_result"
    }
   ],
   "source": [
    "df = pd.DataFrame(characters)\n",
    "df"
   ]
  },
  {
   "cell_type": "markdown",
   "id": "9417eadb",
   "metadata": {},
   "source": [
    "# Clean DataFrame and store as CSV"
   ]
  },
  {
   "cell_type": "code",
   "execution_count": 5,
   "id": "ab59f203",
   "metadata": {},
   "outputs": [],
   "source": [
    "# Remove unnecessary components of book column\n",
    "df['book'] = df['book'].str.replace('Category:', '').str.replace(' characters', '')"
   ]
  },
  {
   "cell_type": "code",
   "execution_count": 6,
   "id": "5b3ebb1e",
   "metadata": {},
   "outputs": [],
   "source": [
    "import re\n",
    "# Remove parentheses from character names and text within\n",
    "df['character'] = df['character'].apply(lambda x: re.sub(\"[\\(].*?[\\)]\", \"\", x))\n",
    "\n",
    "# Create first_name column\n",
    "df['first_name'] = df['character'].apply(lambda x: x.split(' ', 1)[0])"
   ]
  },
  {
   "cell_type": "code",
   "execution_count": 7,
   "id": "c1207a07",
   "metadata": {},
   "outputs": [],
   "source": [
    "# Store csv file\n",
    "df.to_csv('characters.csv')"
   ]
  }
 ],
 "metadata": {
  "kernelspec": {
   "display_name": "Python 3 (ipykernel)",
   "language": "python",
   "name": "python3"
  },
  "language_info": {
   "codemirror_mode": {
    "name": "ipython",
    "version": 3
   },
   "file_extension": ".py",
   "mimetype": "text/x-python",
   "name": "python",
   "nbconvert_exporter": "python",
   "pygments_lexer": "ipython3",
   "version": "3.11.6"
  }
 },
 "nbformat": 4,
 "nbformat_minor": 5
}
