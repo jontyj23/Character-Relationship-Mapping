{
 "cells": [
  {
   "cell_type": "code",
   "execution_count": 55,
   "id": "a7b28d49-fa45-4752-9ef4-250f5a8f4f99",
   "metadata": {},
   "outputs": [],
   "source": [
    "import pandas as pd\n",
    "import time\n",
    "from selenium import webdriver\n",
    "from webdriver_manager.firefox import GeckoDriverManager\n",
    "import re"
   ]
  },
  {
   "cell_type": "markdown",
   "id": "f673cc9b",
   "metadata": {},
   "source": [
    "#Create Driver"
   ]
  },
  {
   "cell_type": "code",
   "execution_count": 56,
   "id": "da56a0c3-880b-4125-b476-cd270e601b15",
   "metadata": {},
   "outputs": [],
   "source": [
    "driver = webdriver.Firefox(executable_path=GeckoDriverManager().install())"
   ]
  },
  {
   "cell_type": "code",
   "execution_count": 57,
   "id": "96767fa5",
   "metadata": {},
   "outputs": [],
   "source": [
    "page_url = 'https://tolkiengateway.net/wiki/Category:Characters_in_The_Hobbit'\n",
    "driver.get(page_url)"
   ]
  },
  {
   "cell_type": "markdown",
   "id": "e1ec59db",
   "metadata": {},
   "source": [
    "#Find Books"
   ]
  },
  {
   "cell_type": "code",
   "execution_count": 58,
   "id": "1e364b6a",
   "metadata": {},
   "outputs": [],
   "source": [
    "# Get all elements with the title attribute\n",
    "elements_with_title = driver.find_elements_by_xpath('//*[@title]')"
   ]
  },
  {
   "cell_type": "code",
   "execution_count": 59,
   "id": "0624257b",
   "metadata": {},
   "outputs": [],
   "source": [
    "# create empty list\n",
    "characters = []\n",
    "\n",
    "# Filter titles containing \"Category:Characters in\" using regex and append to the list\n",
    "pattern = re.compile(r'^\\s*$')\n",
    "for element in elements_with_title:\n",
    "    title = element.get_attribute('title')\n",
    "    if pattern.search(title):\n",
    "        characters.append(element)"
   ]
  },
  {
   "cell_type": "code",
   "execution_count": 60,
   "id": "344a8876",
   "metadata": {},
   "outputs": [
    {
     "ename": "IndexError",
     "evalue": "list index out of range",
     "output_type": "error",
     "traceback": [
      "\u001b[0;31m---------------------------------------------------------------------------\u001b[0m",
      "\u001b[0;31mIndexError\u001b[0m                                Traceback (most recent call last)",
      "\u001b[1;32m/home/jonathan/projects/hobbit_nlp/scaper.ipynb Cell 8\u001b[0m line \u001b[0;36m1\n\u001b[0;32m----> <a href='vscode-notebook-cell:/home/jonathan/projects/hobbit_nlp/scaper.ipynb#X13sZmlsZQ%3D%3D?line=0'>1</a>\u001b[0m characters[\u001b[39m0\u001b[39m]\u001b[39m.\u001b[39mtext\n",
      "\u001b[0;31mIndexError\u001b[0m: list index out of range"
     ]
    }
   ],
   "source": [
    "characters[0].text"
   ]
  },
  {
   "cell_type": "code",
   "execution_count": null,
   "id": "5d151599",
   "metadata": {},
   "outputs": [
    {
     "data": {
      "text/plain": [
       "'https://tolkiengateway.net/w/index.php?title=Category:Characters_in_The_Hobbit&action=edit'"
      ]
     },
     "execution_count": 54,
     "metadata": {},
     "output_type": "execute_result"
    }
   ],
   "source": [
    "characters[0].get_attribute('href')"
   ]
  }
 ],
 "metadata": {
  "kernelspec": {
   "display_name": "Python 3 (ipykernel)",
   "language": "python",
   "name": "python3"
  },
  "language_info": {
   "codemirror_mode": {
    "name": "ipython",
    "version": 3
   },
   "file_extension": ".py",
   "mimetype": "text/x-python",
   "name": "python",
   "nbconvert_exporter": "python",
   "pygments_lexer": "ipython3",
   "version": "3.11.5"
  }
 },
 "nbformat": 4,
 "nbformat_minor": 5
}
